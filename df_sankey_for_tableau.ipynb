{
 "cells": [
  {
   "cell_type": "code",
   "execution_count": null,
   "id": "0bb924e9",
   "metadata": {
    "vscode": {
     "languageId": "plaintext"
    }
   },
   "outputs": [],
   "source": [
    "# -*- coding: utf-8 -*-\n",
    "import dataiku\n",
    "import pandas as pd, numpy as np\n",
    "from dataiku import pandasutils as pdu\n",
    "\n",
    "# Read recipe inputs\n",
    "df_RFM_histo_cleaned = dataiku.Dataset(\"df_RFM_histo_cleaned\")\n",
    "df = df_RFM_histo_cleaned.get_dataframe()\n",
    "\n",
    "df[\"periode\"]=pd.to_datetime(df[\"periode\"])\n",
    "df[\"periode\"]=df[\"periode\"].dt.to_period('M').astype(str)\n",
    "\n",
    "# Compute recipe outputs from inputs\n",
    "# TODO: Replace this part by your actual code that computes the output, as a Pandas dataframe\n",
    "# NB: DSS also supports other kinds of APIs for reading and writing data. Please see doc.\n",
    "df.drop(columns=\"recency\",inplace=True)\n",
    "df = df.sort_values(by=['client_id','periode'])\n",
    "df_wide = df.pivot(index=\"client_id\",columns=\"periode\",values=\"segment\")\n",
    "df_wide.columns = [f\"Niveau{i+1}\" for i in range(len(df_wide.columns))]\n",
    "df_wide = df_wide.reset_index()\n",
    "\n",
    "# Write recipe outputs\n",
    "df_sankey_tableau_sf = dataiku.Dataset(\"df_sankey_tableau_sf\")\n",
    "df_sankey_tableau_sf.write_with_schema(df_wide)\n"
   ]
  }
 ],
 "metadata": {
  "language_info": {
   "name": "python"
  }
 },
 "nbformat": 4,
 "nbformat_minor": 5
}
