{
 "cells": [
  {
   "cell_type": "code",
   "execution_count": null,
   "id": "75fae667",
   "metadata": {
    "vscode": {
     "languageId": "plaintext"
    }
   },
   "outputs": [],
   "source": [
    "# -*- coding: utf-8 -*-\n",
    "import dataiku\n",
    "import pandas as pd, numpy as np\n",
    "from dataiku import pandasutils as pdu\n",
    "from sklearn.preprocessing import StandardScaler\n",
    "from sklearn.cluster import KMeans\n",
    "\n",
    "# Read recipe inputs\n",
    "df_rfm_client_description_features = dataiku.Dataset(\"df_rfm_client_description_features\")\n",
    "df = df_rfm_client_description_features.get_dataframe()\n",
    "\n",
    "\n",
    "# Compute recipe outputs from inputs\n",
    "# TODO: Replace this part by your actual code that computes the output, as a Pandas dataframe\n",
    "# NB: DSS also supports other kinds of APIs for reading and writing data. Please see doc.\n",
    "\n",
    "#one hot encoding des segments, normalement fauudrait plus se baser sur client_status mais il me semble qu il y ait un pb dessus. je vais voir apres\n",
    "df = pd.get_dummies(df,columns=[\"rfm_segment\"],prefix=\"segment\")\n",
    "#selection des colonnes pour le clustering:\n",
    "X = df[[\"frequency\",\"monetary\",\"recency_days\"]+[col for col in df.columns if col.startswith('segment_')]]\n",
    "# Standardise les données\n",
    "scaler = StandardScaler()\n",
    "X_scaled = scaler.fit_transform(X)\n",
    "# Applique K-Means\n",
    "kmeans = KMeans(n_clusters=5, random_state=42)\n",
    "df['cluster'] = kmeans.fit_predict(X_scaled)\n",
    "# Write recipe outputs\n",
    "df_rfm_with_clusters = dataiku.Dataset(\"df_rfm_with_clusters\")\n",
    "df_rfm_with_clusters.write_with_schema(df)\n",
    "\n"
   ]
  }
 ],
 "metadata": {
  "language_info": {
   "name": "python"
  }
 },
 "nbformat": 4,
 "nbformat_minor": 5
}
