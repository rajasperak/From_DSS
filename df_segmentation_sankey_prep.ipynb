{
 "cells": [
  {
   "cell_type": "code",
   "execution_count": null,
   "id": "5793d36a",
   "metadata": {
    "vscode": {
     "languageId": "plaintext"
    }
   },
   "outputs": [],
   "source": [
    "# -*- coding: utf-8 -*-\n",
    "import dataiku\n",
    "import pandas as pd, numpy as np\n",
    "from dataiku import pandasutils as pdu\n",
    "\n",
    "# Read recipe inputs\n",
    "df_RFM_histo_cleaned = dataiku.Dataset(\"df_RFM_histo_cleaned\")\n",
    "df = df_RFM_histo_cleaned.get_dataframe()\n",
    "df[\"periode\"]=pd.to_datetime(df[\"periode\"])\n",
    "df[\"periode\"]=df[\"periode\"].dt.to_period('M').astype(str)\n",
    "\n",
    "# Compute recipe outputs from inputs\n",
    "# TODO: Replace this part by your actual code that computes the output, as a Pandas dataframe\n",
    "# NB: DSS also supports other kinds of APIs for reading and writing data. Please see doc.\n",
    "df.drop(columns=\"recency\",inplace=True)\n",
    "df = df.sort_values(by=['client_id','periode'])\n",
    "df[\"next_segment\"] = df.groupby(\"client_id\")[\"segment\"].shift(-1)\n",
    "df[\"next_period\"] = df.groupby(\"client_id\")[\"periode\"].shift(-1)\n",
    "df_transitions = df.dropna(subset=['next_segment'])\n",
    "sankey_data = (\n",
    "df_transitions\n",
    "    .groupby([\"periode\",\"next_period\",\"segment\",\"next_segment\"])\n",
    "    .agg(Nb_clients=('client_id','nunique'))\n",
    "    .reset_index()\n",
    ")\n",
    "# Write recipe outputs\n",
    "df_prep_sankey = dataiku.Dataset(\"df_prep_sankey\")\n",
    "df_prep_sankey.write_with_schema(sankey_data)\n"
   ]
  }
 ],
 "metadata": {
  "language_info": {
   "name": "python"
  }
 },
 "nbformat": 4,
 "nbformat_minor": 5
}
