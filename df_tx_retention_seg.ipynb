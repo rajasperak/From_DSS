{
 "cells": [
  {
   "cell_type": "code",
   "execution_count": null,
   "id": "fcda0332",
   "metadata": {
    "vscode": {
     "languageId": "plaintext"
    }
   },
   "outputs": [],
   "source": [
    "# -*- coding: utf-8 -*-\n",
    "import dataiku\n",
    "import pandas as pd, numpy as np\n",
    "from dataiku import pandasutils as pdu\n",
    "\n",
    "# Read recipe inputs\n",
    "df_RFM_histo_cleaned = dataiku.Dataset(\"df_RFM_histo_cleaned\")\n",
    "rfm_monthly = df_RFM_histo_cleaned.get_dataframe()\n",
    "\n",
    "# Convertis la période en datetime pour extraire le semestre\n",
    "rfm_monthly['periode'] = pd.to_datetime(rfm_monthly['periode'].astype(str) + '-01')\n",
    "rfm_monthly['semester'] = rfm_monthly['periode'].dt.year.astype(str) + '-S' + ((rfm_monthly['periode'].dt.month - 1) // 6 + 1).astype(str)\n",
    "\n",
    "# Définis un seuil pour la rétention (ex: 30 jours)\n",
    "retention_threshold = 30\n",
    "\n",
    "# Calcule le taux de rétention global par semestre\n",
    "#retention_df = rfm_monthly.groupby('semester').agg(\n",
    "#    total_customers=('customer_id', 'nunique'),\n",
    "#    active_customers=('customer_id', lambda x: ((rfm_monthly.loc[x.index, 'recency'] < retention_threshold) &\n",
    "#                                              (rfm_monthly.loc[x.index, 'period'] == rfm_monthly.loc[x.index, 'period'].max())).sum())\n",
    "#).reset_index()\n",
    "#retention_df['retention_rate'] = (retention_df['active_customers'] / retention_df['total_customers']) * 100\n",
    "\n",
    "# Calcule le taux de rétention par segment et par semestre\n",
    "segment_retention_df = rfm_monthly.groupby(['semester', 'segment']).agg(\n",
    "    total_customers=('client_id', 'nunique'),\n",
    "    active_customers=('client_id', lambda x: ((rfm_monthly.loc[x.index, 'recency'] < retention_threshold) &\n",
    "                                                  (rfm_monthly.loc[x.index, 'periode'] == rfm_monthly.loc[x.index, 'periode'].max())).sum())\n",
    ").reset_index()\n",
    "segment_retention_df['retention_rate'] = (segment_retention_df['active_customers'] / segment_retention_df['total_customers']) * 100\n",
    "\n",
    "\n",
    "# Write recipe outputs\n",
    "df_tx_retention_seg = dataiku.Dataset(\"df_tx_retention_seg\")\n",
    "df_tx_retention_seg.write_with_schema(segment_retention_df)\n"
   ]
  }
 ],
 "metadata": {
  "language_info": {
   "name": "python"
  }
 },
 "nbformat": 4,
 "nbformat_minor": 5
}
