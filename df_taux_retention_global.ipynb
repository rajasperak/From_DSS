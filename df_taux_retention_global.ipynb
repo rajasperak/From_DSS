{
 "cells": [
  {
   "cell_type": "code",
   "execution_count": null,
   "id": "6dee8ac0",
   "metadata": {
    "vscode": {
     "languageId": "plaintext"
    }
   },
   "outputs": [],
   "source": [
    "# -*- coding: utf-8 -*-\n",
    "import dataiku\n",
    "import pandas as pd, numpy as np\n",
    "from dataiku import pandasutils as pdu\n",
    "\n",
    "# Read recipe inputs\n",
    "df_RFM_histo_cleaned = dataiku.Dataset(\"df_RFM_histo_cleaned\")\n",
    "df = df_RFM_histo_cleaned.get_dataframe()\n",
    "\n",
    "df[\"periode\"] = pd.to_datetime(df[\"periode\"].astype(str)+\"-01\")\n",
    "df[\"semestre\"] = df[\"periode\"].dt.year.astype(str)+\"-S\"+((df[\"periode\"].dt.month-1)//6+1).astype(str)\n",
    "seuil_retention = 30\n",
    "retention_df = df.groupby(\"semestre\").agg(\n",
    "\n",
    "    total_clients = (\"client_id\",\"nunique\"),\n",
    "    clients_actives = ('client_id', lambda x: ((df.loc[x.index, 'recency'] < seuil_retention) &\n",
    "                                              (df.loc[x.index, 'periode'] == df.loc[x.index, 'periode'].max())).sum())\n",
    "\n",
    ").reset_index()\n",
    "retention_df['retention_rate'] = (retention_df['clients_actives'] / retention_df['total_clients']) * 100\n",
    "\n",
    "\n",
    "# Write recipe outputs\n",
    "df_tx_retention_globale = dataiku.Dataset(\"df_tx_retention_globale\")\n",
    "df_tx_retention_globale.write_with_schema(retention_df)\n"
   ]
  }
 ],
 "metadata": {
  "language_info": {
   "name": "python"
  }
 },
 "nbformat": 4,
 "nbformat_minor": 5
}
